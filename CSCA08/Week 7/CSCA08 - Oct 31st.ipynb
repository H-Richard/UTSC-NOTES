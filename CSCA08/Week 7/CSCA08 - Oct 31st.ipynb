{
 "cells": [
  {
   "cell_type": "markdown",
   "metadata": {},
   "source": [
    "# CSCA08 - LEC01\n",
    "# Week 7\n",
    "## October 31th, 11:am - 1:00pm\n",
    "## Dictionaries/maps\n",
    "## fiks"
   ]
  },
  {
   "cell_type": "markdown",
   "metadata": {},
   "source": [
    "Sometimes, operations will increase the dictionary length, updating the key values or extending them."
   ]
  },
  {
   "cell_type": "code",
   "execution_count": 21,
   "metadata": {},
   "outputs": [
    {
     "name": "stdout",
     "output_type": "stream",
     "text": [
      "['b', 'b', 'c', 'd']\n"
     ]
    }
   ],
   "source": [
    "#Recall lists\n",
    "#list: L[index] = value\n",
    "#this gets to the location of L at index, will be an error if out of bounds.\n",
    "#it then assigns a value.\n",
    "\n",
    "\n",
    "lst = ['a', 'b', 'c', 'd']\n",
    "\n",
    "\n",
    "#This assignment statemnet cannot extend the length of this list.\n",
    "lst[0] = 'b'\n",
    "print (lst)"
   ]
  },
  {
   "cell_type": "code",
   "execution_count": 22,
   "metadata": {},
   "outputs": [
    {
     "name": "stdout",
     "output_type": "stream",
     "text": [
      "{'a': 4, 'b': 4, 'c': 5}\n"
     ]
    }
   ],
   "source": [
    "#With dictionaries however, it works slightly different.\n",
    "\n",
    "d = {'a':3, 'b':4}\n",
    "\n",
    "#The following is an assignment/reassignment statement, allowing us to reassign an existing key value or assign\n",
    "#a new key to a new value.\n",
    "\n",
    "\n",
    "#This assignment however, is able to change the length of the dictionary/map if necessary.\n",
    "d['a'] = 4\n",
    "d['c'] = 5\n",
    "print (d)"
   ]
  },
  {
   "cell_type": "markdown",
   "metadata": {},
   "source": [
    "Length of a dictionary/map is: \n",
    "    - Number of key/value pairs, or simply the number of keys.\n",
    "    \n",
    "When naming dictionaries, try to be as descriptive and specific as possible.\n",
    "maps \"what\" to \"what\"\n",
    "\n",
    "for example:\n",
    "    animals to locomotion, name to binomial, animal to latin name...\n",
    "    \n",
    "    string to string, string to int, string to lists of strings"
   ]
  },
  {
   "cell_type": "code",
   "execution_count": 2,
   "metadata": {},
   "outputs": [],
   "source": [
    "#Consider the following code:\n",
    "\n",
    "animal_to_locomotion = {'fish': ['swim'],\n",
    "'kangaroo': ['hop'],\n",
    "'frog': ['swim', 'hop']}\n",
    "\n",
    "#Indicate whether each statement will cause an error and, if not, whether the statement will increase the\n",
    "#number of key/value pairs in the dictionary:"
   ]
  },
  {
   "cell_type": "code",
   "execution_count": 26,
   "metadata": {},
   "outputs": [
    {
     "name": "stdout",
     "output_type": "stream",
     "text": [
      "{'fish': ['swim'], 'kangaroo': ['hop', 'airplane', 'airplane', 'airplane', 'airplane'], 'frog': ['tapdance'], 'human': ['swim', 'run', 'walk', 'airplane'], 'dolphin': ['swim']}\n"
     ]
    }
   ],
   "source": [
    "#This code adds a new key 'human' to the dictionary, assignign it with the list of strings.\n",
    "#No errors, length of dictionary increases.\n",
    "animal_to_locomotion['human'] = ['swim', 'run', 'walk', 'airplane']\n",
    "print (animal_to_locomotion)\n",
    "\n"
   ]
  },
  {
   "cell_type": "code",
   "execution_count": 27,
   "metadata": {},
   "outputs": [
    {
     "ename": "KeyError",
     "evalue": "'orangutan'",
     "output_type": "error",
     "traceback": [
      "\u001b[0;31m---------------------------------------------------------------------------\u001b[0m",
      "\u001b[0;31mKeyError\u001b[0m                                  Traceback (most recent call last)",
      "\u001b[0;32m<ipython-input-27-00cca8db98e3>\u001b[0m in \u001b[0;36m<module>\u001b[0;34m()\u001b[0m\n\u001b[1;32m      2\u001b[0m \u001b[0;31m#but no such value exists at 'orangutan', so we receive a key-error.\u001b[0m\u001b[0;34m\u001b[0m\u001b[0;34m\u001b[0m\u001b[0m\n\u001b[1;32m      3\u001b[0m \u001b[0;34m\u001b[0m\u001b[0m\n\u001b[0;32m----> 4\u001b[0;31m \u001b[0manimal_to_locomotion\u001b[0m\u001b[0;34m[\u001b[0m\u001b[0;34m'orangutan'\u001b[0m\u001b[0;34m]\u001b[0m\u001b[0;34m.\u001b[0m\u001b[0mappend\u001b[0m\u001b[0;34m(\u001b[0m\u001b[0;34m'brachiate'\u001b[0m\u001b[0;34m)\u001b[0m\u001b[0;34m\u001b[0m\u001b[0m\n\u001b[0m\u001b[1;32m      5\u001b[0m \u001b[0;34m\u001b[0m\u001b[0m\n",
      "\u001b[0;31mKeyError\u001b[0m: 'orangutan'"
     ]
    }
   ],
   "source": [
    "#'orangutan' key does not exist, this statement first takes the value then tries to append it,\n",
    "#but no such value exists at 'orangutan', so we receive a key-error.\n",
    "\n",
    "animal_to_locomotion['orangutan'].append('brachiate')\n",
    "\n"
   ]
  },
  {
   "cell_type": "code",
   "execution_count": 28,
   "metadata": {},
   "outputs": [
    {
     "name": "stdout",
     "output_type": "stream",
     "text": [
      "{'fish': ['swim'], 'kangaroo': ['hop', 'airplane', 'airplane', 'airplane', 'airplane', 'airplane'], 'frog': ['tapdance'], 'human': ['swim', 'run', 'walk', 'airplane'], 'dolphin': ['swim']}\n"
     ]
    }
   ],
   "source": [
    "#animal_to_locomotion takes the value at key 'kangaroo', as the value happens to a list,\n",
    "#it simply appends airplane to that list.\n",
    "#No error, No length increase.\n",
    "\n",
    "animal_to_locomotion['kangaroo'].append('airplane')\n",
    "print(animal_to_locomotion)\n",
    "\n"
   ]
  },
  {
   "cell_type": "code",
   "execution_count": 31,
   "metadata": {},
   "outputs": [
    {
     "name": "stdout",
     "output_type": "stream",
     "text": [
      "{'fish': ['swim'], 'kangaroo': ['hop', 'airplane', 'airplane', 'airplane', 'airplane', 'airplane'], 'frog': ['tapdance'], 'human': ['swim', 'run', 'walk', 'airplane'], 'dolphin': ['swim']}\n"
     ]
    }
   ],
   "source": [
    "#Frog already exists in the dictionary, so this updates the key value 'frog' to a new list ['tapdance']\n",
    "\n",
    "animal_to_locomotion['frog'] = ['tapdance']\n",
    "print(animal_to_locomotion)\n",
    "\n"
   ]
  },
  {
   "cell_type": "code",
   "execution_count": 32,
   "metadata": {},
   "outputs": [
    {
     "name": "stdout",
     "output_type": "stream",
     "text": [
      "{'fish': ['swim'], 'kangaroo': ['hop', 'airplane', 'airplane', 'airplane', 'airplane', 'airplane'], 'frog': ['tapdance'], 'human': ['swim', 'run', 'walk', 'airplane'], 'dolphin': ['swim']}\n"
     ]
    }
   ],
   "source": [
    "#as key value 'dolphin' no longer exists, it creates a new key with the key value of 'fish'\n",
    "#Right hand side is simply ['swim']\n",
    "#Left side assigns a new key to the key value ['swim']\n",
    "\n",
    "#Length increases, No error\n",
    "\n",
    "animal_to_locomotion['dolphin'] = animal_to_locomotion['fish']\n",
    "print (animal_to_locomotion)\n",
    "\n"
   ]
  },
  {
   "cell_type": "markdown",
   "metadata": {},
   "source": [
    "More exercises:"
   ]
  },
  {
   "cell_type": "code",
   "execution_count": 47,
   "metadata": {},
   "outputs": [
    {
     "name": "stdout",
     "output_type": "stream",
     "text": [
      "True\n"
     ]
    }
   ],
   "source": [
    "from typing import Dict\n",
    "\n",
    "def express_checkout(product_to_quantity: Dict[str, int]) -> bool:\n",
    "    \"\"\"Return True if and only if the grocery order in product_to_quantity\n",
    "    qualifies for the express checkout. product_to_quantity maps products\n",
    "    to the numbers of those items in the grocery order.\n",
    "    \n",
    "    >>> express_checkout({'banana': 3, 'soy milk': 1, 'peanut butter': 1})\n",
    "    True\n",
    "    >>> express_checkout({'banana': 3, 'soy milk': 1, 'twinkie': 5})\n",
    "    False\n",
    "    \"\"\"\n",
    "    \n",
    "    total = 0\n",
    "    for key in product_to_quantity:\n",
    "        total += product_to_quantity[key]\n",
    "        if total > 8:\n",
    "            return False\n",
    "    return True\n",
    "\n",
    "    print(express_checkout({'banana': 3, 'soy milk': 1, 'peanut butter': 1}))"
   ]
  },
  {
   "cell_type": "code",
   "execution_count": null,
   "metadata": {},
   "outputs": [],
   "source": []
  }
 ],
 "metadata": {
  "kernelspec": {
   "display_name": "Python 3",
   "language": "python",
   "name": "python3"
  },
  "language_info": {
   "codemirror_mode": {
    "name": "ipython",
    "version": 3
   },
   "file_extension": ".py",
   "mimetype": "text/x-python",
   "name": "python",
   "nbconvert_exporter": "python",
   "pygments_lexer": "ipython3",
   "version": "3.6.6"
  }
 },
 "nbformat": 4,
 "nbformat_minor": 2
}
