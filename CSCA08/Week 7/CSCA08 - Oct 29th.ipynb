{
 "cells": [
  {
   "cell_type": "markdown",
   "metadata": {},
   "source": [
    "# CSCA08 - LEC01\n",
    "# Week 7\n",
    "## October 29th, 12:00pm - 1:00pm\n",
    "## Dictionaries"
   ]
  },
  {
   "cell_type": "markdown",
   "metadata": {},
   "source": [
    "Python calls it - dict (Dictionary)\n",
    "\n",
    "Rest of the languages - map\n",
    "\n",
    "for example $f: N \\rightarrow R$ maps values $N$ to values $R$\n",
    "\n",
    "for every value of $N$, the map corresponds to a single value of $R$ (Doesn't need to be distinct).\n",
    "\n",
    "However, one value of $N$, it cannot map to two values of $R$."
   ]
  },
  {
   "cell_type": "code",
   "execution_count": null,
   "metadata": {},
   "outputs": [],
   "source": [
    "#Dictionary uses {} curly brackets as suppose to lists which uses [] square ones.\n",
    "\n",
    "\n",
    "dict = {'a':'x', 'b':55, 'c':104, 'd':900}\n",
    "#This is equivalent to 'a' maps to 'x'.\n",
    "#The general form of a dictionary follows {KEY: CORRESPONDANT, KEY2: CORRESPONDENT...} separted by a comma\n",
    "\n",
    "\n",
    "dict['a']\n",
    "#'x'\n",
    "\n",
    "#This expression is evaluated by looking up the object to which 'a' maps to in dict.\n",
    "#this data structure is VERY VERY VERY FAST!\n",
    "#going from correspondant to object which maps to it, is extremly slow.\n",
    "\n",
    "\n",
    "len(dict)\n",
    "#'4'\n",
    "\n",
    "#the length will only tell us how many of the keys we have.\n",
    "\n",
    "\n",
    "'a' in dict\n",
    "#will only check the keys, not values."
   ]
  },
  {
   "cell_type": "markdown",
   "metadata": {},
   "source": [
    "## Keys must be immutable\n",
    "\n",
    "Strings, floats, integers, tuples"
   ]
  },
  {
   "cell_type": "code",
   "execution_count": 50,
   "metadata": {},
   "outputs": [
    {
     "name": "stdout",
     "output_type": "stream",
     "text": [
      "a\n",
      "b\n",
      "c\n"
     ]
    },
    {
     "data": {
      "text/plain": [
       "4"
      ]
     },
     "execution_count": 50,
     "metadata": {},
     "output_type": "execute_result"
    }
   ],
   "source": [
    "dict = {'a':1,'b':2, 'c':3}\n",
    "\n",
    "for keys in dict:\n",
    "    print (keys)\n",
    "    \n",
    "dict['d'] = 4\n",
    "#updates the key/adds a key with a corresponding value\n",
    "\n",
    "dict['a'] = 4\n",
    "#adds the key\n",
    "\n",
    "dict['a']"
   ]
  },
  {
   "cell_type": "markdown",
   "metadata": {},
   "source": [
    "## Consider this code:"
   ]
  },
  {
   "cell_type": "code",
   "execution_count": 14,
   "metadata": {},
   "outputs": [],
   "source": [
    "name_to_binomial = {'human': 'Homo sapiens','dog': 'Canis familiaris','narwhal': 'Monodon monoceros'}"
   ]
  },
  {
   "cell_type": "markdown",
   "metadata": {},
   "source": [
    "Circle the expressions that evaluate to True"
   ]
  },
  {
   "cell_type": "code",
   "execution_count": 8,
   "metadata": {},
   "outputs": [
    {
     "data": {
      "text/plain": [
       "True"
      ]
     },
     "execution_count": 8,
     "metadata": {},
     "output_type": "execute_result"
    }
   ],
   "source": [
    "#(a) \n",
    "'dog' in name_to_binomial \n",
    "#True as 'dog' is one of the elements."
   ]
  },
  {
   "cell_type": "code",
   "execution_count": 10,
   "metadata": {},
   "outputs": [
    {
     "data": {
      "text/plain": [
       "False"
      ]
     },
     "execution_count": 10,
     "metadata": {},
     "output_type": "execute_result"
    }
   ],
   "source": [
    "#(b)\n",
    "'Canis familiaris' in name_to_binomial"
   ]
  },
  {
   "cell_type": "code",
   "execution_count": 11,
   "metadata": {
    "scrolled": true
   },
   "outputs": [
    {
     "ename": "KeyError",
     "evalue": "0",
     "output_type": "error",
     "traceback": [
      "\u001b[0;31m---------------------------------------------------------------------------\u001b[0m",
      "\u001b[0;31mKeyError\u001b[0m                                  Traceback (most recent call last)",
      "\u001b[0;32m<ipython-input-11-0ee7d9ea52ac>\u001b[0m in \u001b[0;36m<module>\u001b[0;34m()\u001b[0m\n\u001b[1;32m      1\u001b[0m \u001b[0;31m#(c)\u001b[0m\u001b[0;34m\u001b[0m\u001b[0;34m\u001b[0m\u001b[0m\n\u001b[0;32m----> 2\u001b[0;31m \u001b[0mname_to_binomial\u001b[0m\u001b[0;34m[\u001b[0m\u001b[0;36m0\u001b[0m\u001b[0;34m]\u001b[0m \u001b[0;34m==\u001b[0m \u001b[0;34m'human'\u001b[0m\u001b[0;34m\u001b[0m\u001b[0m\n\u001b[0m",
      "\u001b[0;31mKeyError\u001b[0m: 0"
     ]
    }
   ],
   "source": [
    "#(c)\n",
    "name_to_binomial[0] == 'human' \n",
    "#key[0] does not exist!"
   ]
  },
  {
   "cell_type": "code",
   "execution_count": 12,
   "metadata": {
    "scrolled": true
   },
   "outputs": [
    {
     "data": {
      "text/plain": [
       "True"
      ]
     },
     "execution_count": 12,
     "metadata": {},
     "output_type": "execute_result"
    }
   ],
   "source": [
    "#(d)\n",
    "len(name_to_binomial) == 3"
   ]
  },
  {
   "cell_type": "code",
   "execution_count": 13,
   "metadata": {
    "scrolled": true
   },
   "outputs": [
    {
     "data": {
      "text/plain": [
       "True"
      ]
     },
     "execution_count": 13,
     "metadata": {},
     "output_type": "execute_result"
    }
   ],
   "source": [
    "\n",
    "#(e)\n",
    "name_to_binomial == {'dog': 'Canis familiaris',\n",
    "'narwhal': 'Monodon monoceros',\n",
    "'human': 'Homo sapiens'}"
   ]
  },
  {
   "cell_type": "code",
   "execution_count": null,
   "metadata": {},
   "outputs": [],
   "source": []
  }
 ],
 "metadata": {
  "kernelspec": {
   "display_name": "Python 3",
   "language": "python",
   "name": "python3"
  },
  "language_info": {
   "codemirror_mode": {
    "name": "ipython",
    "version": 3
   },
   "file_extension": ".py",
   "mimetype": "text/x-python",
   "name": "python",
   "nbconvert_exporter": "python",
   "pygments_lexer": "ipython3",
   "version": "3.6.6"
  }
 },
 "nbformat": 4,
 "nbformat_minor": 2
}
