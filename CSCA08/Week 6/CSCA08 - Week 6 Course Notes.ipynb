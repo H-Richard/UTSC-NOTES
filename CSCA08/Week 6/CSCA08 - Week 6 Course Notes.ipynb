{
 "cells": [
  {
   "cell_type": "markdown",
   "metadata": {},
   "source": [
    "## University of Toronto Scarborough\n",
    "\n"
   ]
  },
  {
   "cell_type": "markdown",
   "metadata": {},
   "source": [
    "\n",
    "# CSCA08 - Introduction to Computer Science\n",
    "## Week 6 - Course Notes\n"
   ]
  },
  {
   "cell_type": "markdown",
   "metadata": {},
   "source": [
    "Richard Hong"
   ]
  },
  {
   "cell_type": "markdown",
   "metadata": {},
   "source": [
    "# Lists"
   ]
  },
  {
   "cell_type": "markdown",
   "metadata": {},
   "source": [
    "Lists are built-in and also mutable,\n",
    "\n",
    "while a string is difficult to modify, a list is not.\n",
    "\n",
    "a lot of list methods will not return anything as it is a nonetype.\n",
    "\n",
    "for example list.append()"
   ]
  },
  {
   "cell_type": "code",
   "execution_count": 3,
   "metadata": {},
   "outputs": [
    {
     "name": "stdout",
     "output_type": "stream",
     "text": [
      "[4, 3, 2, 1]\n",
      "[4, 3, 2, 1, 0, -1]\n"
     ]
    }
   ],
   "source": [
    "lst = [4,3,2]\n",
    "lst.append(1)\n",
    "print (lst)\n",
    "\n",
    "lst.extend([0,-1])\n",
    "print (lst)"
   ]
  },
  {
   "cell_type": "code",
   "execution_count": 4,
   "metadata": {},
   "outputs": [
    {
     "name": "stdout",
     "output_type": "stream",
     "text": [
      "[1, 2, 3, 42]\n",
      "[1, 2, 3, 42]\n"
     ]
    }
   ],
   "source": [
    "lst1 = [1,2,3] #id0\n",
    "lst2 = [1,2,3] #id1\n",
    "\n",
    "lst1.append(42) #modifies original list object. now it is [1,2,3,42]\n",
    "print (lst1)\n",
    "\n",
    "lst2 = lst2 + [42] #this creates a type object list with [42] in it. [42] #id2 this produces a new list at #id3[1,2,3,42]\n",
    "print (lst2)\n",
    "\n",
    "\n",
    "#now lst2 refers to id3\n",
    "#but lst1 still refers to id0"
   ]
  },
  {
   "cell_type": "markdown",
   "metadata": {},
   "source": [
    "here lst1 and lst2 refers to different objects.\n",
    "simply, append will modify an existing memory id, while + [] will create a new memory id."
   ]
  },
  {
   "cell_type": "code",
   "execution_count": 6,
   "metadata": {},
   "outputs": [],
   "source": [
    "a = [1, 0]\n",
    "\n",
    "a.append(8)\n",
    "\n",
    "a.insert(len(a), 8)\n",
    "\n",
    "a = [a[0], a[1], 8] #creates new memory id\n",
    "\n",
    "a = a + [8] #creates new memory id"
   ]
  },
  {
   "cell_type": "code",
   "execution_count": 7,
   "metadata": {},
   "outputs": [
    {
     "name": "stdout",
     "output_type": "stream",
     "text": [
      "False True False False\n"
     ]
    }
   ],
   "source": [
    "a = [1, 0, 8]\n",
    "b = a.sort()\n",
    "#after execution, b refers to a nonetype as the method .sort() does not return anything.\n",
    "\n",
    "print(a == [1, 0, 8], a == [0, 1, 8],b == [1, 0, 8],b == [0, 1, 8]) "
   ]
  },
  {
   "cell_type": "code",
   "execution_count": 9,
   "metadata": {},
   "outputs": [
    {
     "name": "stdout",
     "output_type": "stream",
     "text": [
      "[50, 70, 90]\n"
     ]
    }
   ],
   "source": [
    "#Example of a list modifyng function\n",
    "#th-Threshold\n",
    "#This function compares the ints in grades to the threshold, and returns all the grades that are above.\n",
    "def up(grades:[int], th: int) -> [int]:\n",
    "\n",
    "    x = []\n",
    "    i = 0\n",
    "    while i <len(grades):\n",
    "        if grades[i] > th:\n",
    "            x.append(grades[i])\n",
    "        i += 1\n",
    "    return x\n",
    "\n",
    "print (up([30,50,70,30,90],40))"
   ]
  },
  {
   "cell_type": "markdown",
   "metadata": {},
   "source": [
    "## for-loops over lists"
   ]
  },
  {
   "cell_type": "code",
   "execution_count": 20,
   "metadata": {},
   "outputs": [
    {
     "name": "stdout",
     "output_type": "stream",
     "text": [
      "[34, 46, 0]\n"
     ]
    }
   ],
   "source": [
    "def collect_underperformers(grades:[int], threshold: int) -> [int]:\n",
    "    \"\"\"Return new list containing elements of grades list that are under the threshold int.\n",
    "    \n",
    "    \n",
    "    \"\"\"\n",
    "    #accumulative variable that collects all the underperformers.\n",
    "    under = []\n",
    "    for i in grades:\n",
    "        if i < threshold:\n",
    "            under.append(i)\n",
    "            \n",
    "    return under\n",
    "            \n",
    "print (collect_underperformers([99,34,56,53,96,64,46,0,53],50))"
   ]
  },
  {
   "cell_type": "markdown",
   "metadata": {},
   "source": []
  },
  {
   "cell_type": "code",
   "execution_count": 3,
   "metadata": {},
   "outputs": [
    {
     "name": "stdout",
     "output_type": "stream",
     "text": [
      "6\n",
      "[1, [3, 2, 5, [6, 9, 3]], 'one']\n"
     ]
    }
   ],
   "source": [
    "L = [1 ,[3,2,5,[6,9,3]]]\n",
    "print (L[1][3][0])\n",
    "\n",
    "#append modifies the existing ID\n",
    "L.append('one')\n",
    "print (L)"
   ]
  },
  {
   "cell_type": "code",
   "execution_count": 5,
   "metadata": {},
   "outputs": [
    {
     "name": "stdout",
     "output_type": "stream",
     "text": [
      "['one', [3, 2, 5, [6, 9, 3]]]\n"
     ]
    }
   ],
   "source": [
    "#lists indexes can be assigned.\n",
    "#This way of modifying does not change the memory ID\n",
    "L =[1 ,[3,2,5,[6,9,3]]]\n",
    "L[0] = \"one\"\n",
    "print (L)"
   ]
  },
  {
   "cell_type": "code",
   "execution_count": 13,
   "metadata": {},
   "outputs": [
    {
     "name": "stdout",
     "output_type": "stream",
     "text": [
      "[1, [3, 2, 5, [6, 9, 3]], 1, 2]\n",
      "[1, [3, 2, 5, [6, 9, 3]], 1, 2, 1, 2]\n"
     ]
    }
   ],
   "source": [
    "L =[1 ,[3,2,5,[6,9,3]]]\n",
    "#This operator modifies the existing ID.\n",
    "L += [1,2]\n",
    "print (L)\n",
    "\n",
    "#This no longer modifies the existing list, but uses list L to refer to a new list.\n",
    "#An assignment statement evaluates the right hand side, then L gets assigned to the new memory ID.\n",
    "L = L + [1,2]\n",
    "print(L)"
   ]
  },
  {
   "cell_type": "markdown",
   "metadata": {},
   "source": [
    "## loops, strings and lists."
   ]
  },
  {
   "cell_type": "code",
   "execution_count": 28,
   "metadata": {},
   "outputs": [
    {
     "name": "stdout",
     "output_type": "stream",
     "text": [
      "abbccc\n"
     ]
    }
   ],
   "source": [
    "def stretch_string(s: str, stretch_factors: [int]) -> str:\n",
    "    \"\"\"Return a string consisting of the characters in s in the same order\n",
    "    as in s, repeated the number of times indicated by the item at the\n",
    "    corresponding position of stretch_factors.\n",
    "    \n",
    "    Precondition: len(s) == len(stretch_factors) and the items of\n",
    "                  stretch_factors are non-negative\n",
    "    \n",
    "    >>> stretch_string('Hello', [2, 0, 3, 1, 1])\n",
    "    'HHllllo'\n",
    "    >>> stretch_string('echo', [0, 0, 1, 5])\n",
    "    'hooooo'\n",
    "\n",
    "    \"\"\"\n",
    "    n = ''\n",
    "    x = 0\n",
    "    \n",
    "    for i in s:\n",
    "        n += i * stretch_factors[x]\n",
    "        x += 1\n",
    "    return n\n",
    "\n",
    "print (stretch_string('abc', [1,2,3]))"
   ]
  },
  {
   "cell_type": "markdown",
   "metadata": {},
   "source": [
    "Never change the ID of the list in a function, do not use an assignment. If we need to modify the list, we must specifically say that in the docstring."
   ]
  },
  {
   "cell_type": "code",
   "execution_count": 34,
   "metadata": {},
   "outputs": [
    {
     "name": "stdout",
     "output_type": "stream",
     "text": [
      "10\n"
     ]
    }
   ],
   "source": [
    "def greatest_difference(nums1: [int], nums2: [int]) -> int:\n",
    "    \"\"\"Return the greatest absolute difference between numbers at\n",
    "    corresponding positions in nums1 and nums2.\n",
    "    \n",
    "    Precondition: len(nums1) == len(nums2) and nums1 != []\n",
    "    \n",
    "    >>> greatest_difference([1, 2, 3], [6, 8, 10])\n",
    "    7\n",
    "    >>> greatest_difference([1, -2, 3], [-6, 8, 10])\n",
    "    10\n",
    "\n",
    "    \"\"\"\n",
    "    \n",
    "    r = 0\n",
    "    for i in range(len(nums1)):\n",
    "        if abs(nums1[i] - nums2[i]) > r:\n",
    "            r = abs(nums1[i] - nums2[i])\n",
    "    return r\n",
    "\n",
    "\n",
    "print (greatest_difference([1, -2, 3], [-6, 8, 10]))\n",
    "    "
   ]
  },
  {
   "cell_type": "code",
   "execution_count": 35,
   "metadata": {},
   "outputs": [
    {
     "ename": "SyntaxError",
     "evalue": "invalid syntax (<ipython-input-35-4c1f38a3bed1>, line 1)",
     "output_type": "error",
     "traceback": [
      "\u001b[0;36m  File \u001b[0;32m\"<ipython-input-35-4c1f38a3bed1>\"\u001b[0;36m, line \u001b[0;32m1\u001b[0m\n\u001b[0;31m    L = [1,2, , 3]\u001b[0m\n\u001b[0m              ^\u001b[0m\n\u001b[0;31mSyntaxError\u001b[0m\u001b[0;31m:\u001b[0m invalid syntax\n"
     ]
    }
   ],
   "source": [
    "#Error, we cannot have an nonetype in a list.\n",
    "L = [1,2, , 3]"
   ]
  },
  {
   "cell_type": "code",
   "execution_count": 1,
   "metadata": {},
   "outputs": [
    {
     "ename": "SyntaxError",
     "evalue": "invalid syntax (<ipython-input-1-51eebfbc2694>, line 1)",
     "output_type": "error",
     "traceback": [
      "\u001b[0;36m  File \u001b[0;32m\"<ipython-input-1-51eebfbc2694>\"\u001b[0;36m, line \u001b[0;32m1\u001b[0m\n\u001b[0;31m    for i in [1, ,3]:\u001b[0m\n\u001b[0m                 ^\u001b[0m\n\u001b[0;31mSyntaxError\u001b[0m\u001b[0;31m:\u001b[0m invalid syntax\n"
     ]
    }
   ],
   "source": [
    "for i in [1, ,3]:\n",
    "    print (i)"
   ]
  }
 ],
 "metadata": {
  "kernelspec": {
   "display_name": "Python 3",
   "language": "python",
   "name": "python3"
  },
  "language_info": {
   "codemirror_mode": {
    "name": "ipython",
    "version": 3
   },
   "file_extension": ".py",
   "mimetype": "text/x-python",
   "name": "python",
   "nbconvert_exporter": "python",
   "pygments_lexer": "ipython3",
   "version": "3.6.6"
  }
 },
 "nbformat": 4,
 "nbformat_minor": 2
}
