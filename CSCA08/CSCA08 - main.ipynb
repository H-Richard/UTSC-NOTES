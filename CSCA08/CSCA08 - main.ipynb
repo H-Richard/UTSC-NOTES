{
 "cells": [
  {
   "cell_type": "markdown",
   "metadata": {},
   "source": [
    "# CSCA08 Introduction to Computer Science I\n",
    "## 2018 - Fall\n",
    "### Anya Tafliovich"
   ]
  },
  {
   "cell_type": "code",
   "execution_count": 30,
   "metadata": {},
   "outputs": [
    {
     "data": {
      "text/plain": [
       "'de'"
      ]
     },
     "execution_count": 30,
     "metadata": {},
     "output_type": "execute_result"
    }
   ],
   "source": [
    "##ODD BEHAVIOURS\n",
    "##the end index when slicing strings can be greater than the length of sliced string\n",
    "\n",
    "i = 'abcde'\n",
    "i[3:13032]"
   ]
  },
  {
   "cell_type": "markdown",
   "metadata": {},
   "source": [
    "## Defining a Function"
   ]
  },
  {
   "cell_type": "code",
   "execution_count": 2,
   "metadata": {},
   "outputs": [],
   "source": [
    "#def is used to start a function, the function comes after\n",
    "\n",
    "#everything inside (argument_name:argument type) are parameters and argument types\n",
    "\n",
    "#-> denotes return type \n",
    "\n",
    "\n",
    "##HEADER\n",
    "def func(arg1: str, arg2: str) -> str:\n",
    "    ##DOCSTRING & EXAMPLES\n",
    "    \"\"\" Return blah blah based on blah blah.\n",
    "    \n",
    "    >>>func('str', 'str')\n",
    "    *returns whatever function is supposed to return*\n",
    "    \"\"\"\n",
    "    \n",
    "    ##FUNCTION CODE\n",
    "    conjunction = arg1 + arg2\n",
    "    \n",
    "    ##RETURN statement(ends the function)\n",
    "    return conjunction\n",
    "    \n",
    "    "
   ]
  },
  {
   "cell_type": "markdown",
   "metadata": {},
   "source": [
    "## Using Non-Bult-in Functions"
   ]
  },
  {
   "cell_type": "code",
   "execution_count": 6,
   "metadata": {},
   "outputs": [
    {
     "name": "stdout",
     "output_type": "stream",
     "text": [
      "2.302585092994046\n"
     ]
    }
   ],
   "source": [
    "##import + module name will import the entire module\n",
    "import math\n",
    "\n",
    "##from module import + function will import a specific function\n",
    "from math import log\n",
    "\n",
    "##to use the function in your code you must call the module\n",
    "print(math.log(10))\n"
   ]
  },
  {
   "cell_type": "markdown",
   "metadata": {},
   "source": [
    "## if, else, elif"
   ]
  },
  {
   "cell_type": "code",
   "execution_count": 10,
   "metadata": {},
   "outputs": [
    {
     "name": "stdout",
     "output_type": "stream",
     "text": [
      "Greater than 3!\n",
      "Less than 3!\n",
      "This number is 3!\n"
     ]
    }
   ],
   "source": [
    "##the code block under 'if' will run if the condition is satisfied\n",
    "\n",
    "def greater(x:int) -> str:\n",
    "    if x > 3:\n",
    "        return 'Greater than 3!'\n",
    "    \n",
    "print(greater(4))\n",
    "\n",
    "##the code block under 'else' will run if none of the previous ifs are satisfied\n",
    "\n",
    "def greaterelse(x:int) -> str:\n",
    "    if x > 3:\n",
    "        return 'Greater than 3!'\n",
    "    else:\n",
    "        return 'Less than 3!'\n",
    "    \n",
    "print(greaterelse(2))\n",
    "\n",
    "##elif condition will be checked if the previous if wasn't satisfied\n",
    "\n",
    "def greaterelif(x:int) -> str:\n",
    "    if x > 3:\n",
    "        return 'Greater than 3!'\n",
    "    elif x < 3:\n",
    "        return 'Less than 3!'\n",
    "    elif x == 3:\n",
    "        return 'This number is 3!'\n",
    "    \n",
    "print(greaterelif(3))"
   ]
  },
  {
   "cell_type": "markdown",
   "metadata": {},
   "source": [
    "#### putting 'else' or 'elif' before an if will result in a syntax error"
   ]
  },
  {
   "cell_type": "markdown",
   "metadata": {},
   "source": [
    "## Logical and/or"
   ]
  },
  {
   "cell_type": "code",
   "execution_count": 19,
   "metadata": {},
   "outputs": [
    {
     "name": "stdout",
     "output_type": "stream",
     "text": [
      "False\n",
      "True\n",
      "True\n"
     ]
    }
   ],
   "source": [
    "##an and/or conditional can be written as if statements\n",
    "##x > 3 and x < 4 is equivalent to the following\n",
    "\n",
    "def checkand(x:float) -> bool:\n",
    "    if x <= 3:\n",
    "        return False\n",
    "    if x >= 4:\n",
    "        return False\n",
    "    else:\n",
    "        return True\n",
    "\n",
    "print(checkand(5))\n",
    "print(checkand(3.5))\n",
    "\n",
    "##x > 3 or x < 4 is equivalent to the following\n",
    "\n",
    "def checkor(x:float) -> bool:\n",
    "    if x > 3:\n",
    "        return True\n",
    "    if x < 4:\n",
    "        return True\n",
    "    else:\n",
    "        return False\n",
    "    \n",
    "print(checkor(3.5))"
   ]
  },
  {
   "cell_type": "markdown",
   "metadata": {},
   "source": [
    "## Lists"
   ]
  },
  {
   "cell_type": "code",
   "execution_count": 25,
   "metadata": {
    "scrolled": true
   },
   "outputs": [
    {
     "name": "stdout",
     "output_type": "stream",
     "text": [
      "<class 'list'>\n",
      "a\n"
     ]
    }
   ],
   "source": [
    "##lists are denoted with []s and can host different types of objects at the same time\n",
    "\n",
    "listA = ['a', 2, 5]\n",
    "\n",
    "print(type(listA))\n",
    "\n",
    "##list indexes like string indexes start at 0\n",
    "\n",
    "print(listA[0])"
   ]
  },
  {
   "cell_type": "code",
   "execution_count": 28,
   "metadata": {},
   "outputs": [
    {
     "name": "stdout",
     "output_type": "stream",
     "text": [
      "1\n",
      "4\n",
      "6\n",
      "a\n",
      "3.5\n",
      "hello\n",
      "None\n"
     ]
    }
   ],
   "source": [
    "##forloops can be used to iterate through lists\n",
    "\n",
    "listA = ['1', 4, 6, 'a', 3.5, 'hello']\n",
    "\n",
    "def printelements(lista: list) -> str:\n",
    "    for element in listA:\n",
    "        print(element)\n",
    "        \n",
    "print(printelements(listA))"
   ]
  },
  {
   "cell_type": "markdown",
   "metadata": {},
   "source": [
    "## Sorting Algorithms\n",
    "### Bubble Sort\n",
    "\n",
    "Bubble sort looks at two adjacent elements at at time starting from the beginning, if the 2nd element is greater than the first, they swap. This continues until the list is fully sorted\n",
    "\n",
    "![img](Bubble-sort.gif)\n",
    "\n",
    "Complexity = Quadratic\n",
    "\n",
    "### Insertion Sort\n",
    "Insertion sort creates subarrays within the array, and sorts the subarray locally. Insertion sort will start with an array the size of 2 (up to index 1). After X runs of insertion sort, a subarray of size X will be sorted.\n",
    "\n",
    "![img](Insertion-sort.gif)\n",
    "\n",
    "Complexity = Quadratic\n",
    "\n",
    "### Selection Sort\n",
    "Selection sort scans the list for the smallest element and switches places with the first index, then it scans the rest of the list (from index 1 to lenth of list) and repeats the first step. After X runs of selection sort, a subarray of size X will be sorted.\n",
    "\n",
    "However, this sorting method results in a different unsorted subarray from insertion sort.\n",
    "\n",
    "![img](selection-sort.gif)\n",
    "\n",
    "Complexity = Quadratic"
   ]
  },
  {
   "cell_type": "code",
   "execution_count": null,
   "metadata": {},
   "outputs": [],
   "source": []
  }
 ],
 "metadata": {
  "kernelspec": {
   "display_name": "Python 3",
   "language": "python",
   "name": "python3"
  },
  "language_info": {
   "codemirror_mode": {
    "name": "ipython",
    "version": 3
   },
   "file_extension": ".py",
   "mimetype": "text/x-python",
   "name": "python",
   "nbconvert_exporter": "python",
   "pygments_lexer": "ipython3",
   "version": "3.6.7"
  }
 },
 "nbformat": 4,
 "nbformat_minor": 2
}
