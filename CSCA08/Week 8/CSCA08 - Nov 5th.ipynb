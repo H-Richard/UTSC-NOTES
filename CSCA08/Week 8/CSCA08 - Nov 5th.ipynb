{
 "cells": [
  {
   "cell_type": "markdown",
   "metadata": {},
   "source": [
    "# CSCA08 - LEC01\n",
    "# Week 8\n",
    "## November 5th, 12:00pm - 1:00pm\n",
    "## Files"
   ]
  },
  {
   "cell_type": "markdown",
   "metadata": {},
   "source": [
    "CSV files = comma separated values, standard in storing plain text."
   ]
  },
  {
   "cell_type": "code",
   "execution_count": 25,
   "metadata": {},
   "outputs": [
    {
     "name": "stdout",
     "output_type": "stream",
     "text": [
      "<class '_io.TextIOWrapper'>\n",
      "<_io.TextIOWrapper name='budgie_budgets.csv' mode='r' encoding='UTF-8'>\n"
     ]
    }
   ],
   "source": [
    "import csv\n",
    "#your life is easier.\n",
    "\n",
    "f = open('budgie_budgets.csv')\n",
    "#f refers to a 'file object'\n",
    "#this file object is managed inside python memory\n",
    "\n",
    "#open: a built in function, must be a path to the actual file, it returns the file object.\n",
    "#must be assigned to a variable.\n",
    "#file object is a channel between the program and actual file on disk.\n",
    "\n",
    "print(type(f))\n",
    "#this file is called a Text Input, Output Wrapper.\n",
    "#for reading and writing out of the object.\n",
    "\n",
    "print(f)\n",
    "#Important: mode = 'r' denotes that file is read only.\n",
    "\n",
    "#>>> open(name, 'r')\n",
    "#This opens it in read only mode\n",
    "\n",
    "#>>> open(name, 'w')\n",
    "#This opens it in write only mode, !when python writes, it will override the original\n",
    "\n",
    "#>>> open(name, 'a')\n",
    "#This opens the file in append mode, letting us add to the original file.\n",
    "\n",
    "\n",
    "\n",
    "#At the end, always use\n",
    "#Most of the time, python will close it automatically, but it's a good habit to close a resource.\n",
    "f.close()"
   ]
  },
  {
   "cell_type": "markdown",
   "metadata": {},
   "source": [
    "Consider the following code"
   ]
  },
  {
   "cell_type": "code",
   "execution_count": 33,
   "metadata": {},
   "outputs": [
    {
     "name": "stdout",
     "output_type": "stream",
     "text": [
      "Zworkykin\n",
      "\n",
      "Zyrtec\n",
      "\n",
      "Zyrtec's\n",
      "\n",
      "a\n",
      "\n",
      "aardvark\n",
      "\n",
      "aardvarks\n",
      "\n",
      "abaci\n",
      "\n",
      "aback\n"
     ]
    }
   ],
   "source": [
    "f = open('budgie_budgets.csv')\n",
    "for line in f:\n",
    "    print(line)\n",
    "    \n",
    "#This will print every line as the for loop iterates over the file, line by line."
   ]
  },
  {
   "cell_type": "code",
   "execution_count": 36,
   "metadata": {},
   "outputs": [
    {
     "name": "stdout",
     "output_type": "stream",
     "text": [
      "Zyrtec\n",
      "\n",
      "Zyrtec's\n",
      "\n",
      "a\n",
      "\n",
      "aardvark\n",
      "\n",
      "aardvarks\n",
      "\n",
      "abaci\n",
      "\n",
      "aback\n"
     ]
    }
   ],
   "source": [
    "f = open('budgie_budgets.csv')\n",
    "line = f.readline()\n",
    "for line in f:\n",
    "    print(line)\n",
    "    \n",
    "#This reads one line, assigns it to variable line.\n",
    "#As the line variable has been replaced, this will iterate from the second line to the last line"
   ]
  },
  {
   "cell_type": "code",
   "execution_count": 37,
   "metadata": {},
   "outputs": [
    {
     "name": "stdout",
     "output_type": "stream",
     "text": [
      "Zworkykin\n",
      "\n",
      "Zyrtec's\n",
      "\n",
      "aardvark\n",
      "\n",
      "abaci\n",
      "\n"
     ]
    }
   ],
   "source": [
    "f = open('budgie_budgets.csv')\n",
    "for line in f:\n",
    "    print(line)\n",
    "    f.readline()\n",
    "    \n",
    "#Starts with first line; read next line on every iteration.\n",
    "#Reads next line after printing a line, so it prints every second line.\n",
    "#the last f.readline() does not print the line!"
   ]
  },
  {
   "cell_type": "code",
   "execution_count": 44,
   "metadata": {},
   "outputs": [
    {
     "name": "stdout",
     "output_type": "stream",
     "text": [
      "Zworkykin\n",
      "\n"
     ]
    }
   ],
   "source": [
    "f = open('budgie_budgets.csv')\n",
    "print(f.readlines()[0])\n",
    "#f.readlines() gives us a list, we simply return the first index of that list.\n",
    "#prints the first line only."
   ]
  },
  {
   "cell_type": "markdown",
   "metadata": {},
   "source": [
    "Consider this code:"
   ]
  },
  {
   "cell_type": "code",
   "execution_count": 47,
   "metadata": {},
   "outputs": [],
   "source": [
    "budget_file = open('budgie_budget.text', 'w')\n",
    "budget_file.write('Seed: $10/month')\n",
    "budget_file.write('Cage: $50')\n",
    "budget_file.close()"
   ]
  },
  {
   "cell_type": "markdown",
   "metadata": {},
   "source": [
    "What will the contents of the file look like after?\n",
    "\n",
    "<pre>Seed: $10/monthCage: $50</pre>\n",
    "\n",
    "This is because unlike print, write will write the xeact arguments we give."
   ]
  },
  {
   "cell_type": "code",
   "execution_count": 53,
   "metadata": {},
   "outputs": [
    {
     "name": "stdout",
     "output_type": "stream",
     "text": [
      "foo\n",
      "bar\n",
      "foo,bar\n"
     ]
    }
   ],
   "source": [
    "print(\"foo\")\n",
    "\n",
    "#This automatically prints foo, then a new line\n",
    "\n",
    "print(\"bar\")\n",
    "\n",
    "#This is because print actually has a secondary argument that is defaulted to new line\n",
    "\n",
    "print(\"foo\", end=',')\n",
    "print('bar')"
   ]
  },
  {
   "cell_type": "code",
   "execution_count": null,
   "metadata": {},
   "outputs": [],
   "source": []
  }
 ],
 "metadata": {
  "kernelspec": {
   "display_name": "Python 3",
   "language": "python",
   "name": "python3"
  },
  "language_info": {
   "codemirror_mode": {
    "name": "ipython",
    "version": 3
   },
   "file_extension": ".py",
   "mimetype": "text/x-python",
   "name": "python",
   "nbconvert_exporter": "python",
   "pygments_lexer": "ipython3",
   "version": "3.6.6"
  }
 },
 "nbformat": 4,
 "nbformat_minor": 2
}
