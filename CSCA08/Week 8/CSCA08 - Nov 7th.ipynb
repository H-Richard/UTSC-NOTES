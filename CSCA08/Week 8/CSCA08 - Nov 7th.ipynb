{
 "cells": [
  {
   "cell_type": "markdown",
   "metadata": {},
   "source": [
    "# CSCA08 - LEC01\n",
    "# Week 8\n",
    "## November 7th, 11:00pm - 1:00pm\n",
    "## Files - Continued\n",
    "\n",
    "## TAs sub"
   ]
  },
  {
   "cell_type": "markdown",
   "metadata": {},
   "source": [
    "Consider the following code:"
   ]
  },
  {
   "cell_type": "markdown",
   "metadata": {},
   "source": [
    "dictionary.txt:\n",
    "\n",
    "Zworkykin\n",
    "Zyrtec\n",
    "Zyrtec's\n",
    "a\n",
    "aardvark\n",
    "aardvarks\n",
    "abaci\n",
    "aback"
   ]
  },
  {
   "cell_type": "code",
   "execution_count": 15,
   "metadata": {},
   "outputs": [
    {
     "name": "stdout",
     "output_type": "stream",
     "text": [
      "True\n"
     ]
    }
   ],
   "source": [
    "from typing import TextIO\n",
    "\n",
    "def is_correct(file: TextIO, word: str) -> bool:\n",
    "    \"\"\"Return True if and only if word is in file.\n",
    "    \n",
    "    >>> dict_file = open('dictionary.txt')\n",
    "    >>> is_correct(dict_file, 'Zyrtec')\n",
    "    True\n",
    "    >>> dict_file.close()\n",
    "    >>> dict_file = open('dictionary.txt')\n",
    "    >>> is_correct(dict_file, 'lolz')\n",
    "    False\n",
    "    >>> dict_file.close()\n",
    "    \"\"\"\n",
    "    \n",
    "    #This iterates line by line, and checks if our word is in the line.\n",
    "    f = open(file)\n",
    "    for line in f:\n",
    "        if line.strip() == word:\n",
    "            return True\n",
    "    return False\n",
    "    \n",
    "    \n",
    "    #remember to close the file!\n",
    "    file.close()\n",
    "    \n",
    "print(is_correct('dictionary.txt', 'Zyrtec'))"
   ]
  },
  {
   "cell_type": "markdown",
   "metadata": {},
   "source": [
    "Q: What if the dictionary.txt isn't in the same directory? (like in a sub-folder)\n",
    "\n",
    "A: Long as it's python is in the outer most directory, it should work.\n",
    "    Otherwise you may want to try foldername/'dictionary.txt'\n",
    "    \n",
    "\n",
    "Q: What if the dictionary.txt is in a completely different directory?\n",
    "\n",
    "\n",
    "A: Then you must give the full path to the file.\n",
    "\n",
    "'home/desktop/foldername/foldername...'dictionary.txt'\n",
    "    "
   ]
  },
  {
   "cell_type": "code",
   "execution_count": 18,
   "metadata": {},
   "outputs": [],
   "source": [
    "def write_ascii_triangle(outfile: TextIO, block: str, sidelength: int) -> None:\n",
    "    \"\"\"Write an ascii isosceles right triangle using block that is sidelength\n",
    "    characters wide and high to outfile. The right angle should be in the\n",
    "    upper-left corner.\n",
    "    Precondition: len(block) == 1\n",
    "    For example, given block=\"@\" and sidelength=4, the\n",
    "    following should be written to the file:\n",
    "    @@@@\n",
    "    @@@\n",
    "    @@\n",
    "    @\n",
    "    \"\"\"\n",
    "    \n",
    "    for i in range(sidelength, 0, -1):\n",
    "        outfile.write(i * block + \"\\n\")\n",
    "    outfile.close()\n",
    "    \n",
    "a = open('outfile.txt','a')\n",
    "write_ascii_triangle(a, \"@\", 5)"
   ]
  },
  {
   "cell_type": "markdown",
   "metadata": {},
   "source": [
    "Outfile will look something like this:\n",
    "\n",
    "@@@@@\n",
    "\n",
    "@@@@\n",
    "\n",
    "@@@\n",
    "\n",
    "@@\n",
    "\n",
    "@\n"
   ]
  },
  {
   "cell_type": "code",
   "execution_count": null,
   "metadata": {},
   "outputs": [],
   "source": []
  }
 ],
 "metadata": {
  "kernelspec": {
   "display_name": "Python 3",
   "language": "python",
   "name": "python3"
  },
  "language_info": {
   "codemirror_mode": {
    "name": "ipython",
    "version": 3
   },
   "file_extension": ".py",
   "mimetype": "text/x-python",
   "name": "python",
   "nbconvert_exporter": "python",
   "pygments_lexer": "ipython3",
   "version": "3.6.6"
  }
 },
 "nbformat": 4,
 "nbformat_minor": 2
}
