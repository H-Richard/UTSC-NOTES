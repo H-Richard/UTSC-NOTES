{
 "cells": [
  {
   "cell_type": "markdown",
   "metadata": {},
   "source": [
    "# CSCA08 - LEC01\n",
    "# Week 9\n",
    "## November 12th, 12:00pm - 1:00pm\n",
    "\n",
    "## Testing"
   ]
  },
  {
   "cell_type": "code",
   "execution_count": 2,
   "metadata": {},
   "outputs": [
    {
     "name": "stdout",
     "output_type": "stream",
     "text": [
      "False\n"
     ]
    }
   ],
   "source": [
    "def is_teenager(age: int) -> bool:\n",
    "    \"\"\"Return True iff age is teenager between 13 and 18 inclusive.\n",
    "    \n",
    "    Precondition: age >= 0\n",
    "    \"\"\"\n",
    "    return age >= 13 and age <= 18\n",
    "\n",
    "print(is_teenager(0))"
   ]
  },
  {
   "cell_type": "markdown",
   "metadata": {},
   "source": [
    "When choosing test cases, first divide possible input values into intervals.\n",
    "then always choose boundary cases.\n",
    "\n",
    "Valid input only:\n",
    "\n",
    "Only specified (correct) types\n",
    "\n",
    "only values that satisfy preconditions\n",
    "\n",
    "No redundant cases!"
   ]
  },
  {
   "cell_type": "markdown",
   "metadata": {},
   "source": [
    "## Test cases\n",
    "\n",
    "0 Boundary | 13 Boundary | 18 Boundary | 0 < age < 13 | 13 < age < 18 | age > 18\n"
   ]
  },
  {
   "cell_type": "code",
   "execution_count": 11,
   "metadata": {},
   "outputs": [
    {
     "name": "stdout",
     "output_type": "stream",
     "text": [
      "True\n"
     ]
    }
   ],
   "source": [
    "def all_fluffy(s: str) -> bool:\n",
    "    \"\"\"Return True iff evrey character in s is in fluffy. Fluffy charcater are \n",
    "    those that appear in the word 'fluffy'\n",
    "    \n",
    "    \"\"\"\n",
    "    \n",
    "    for ch in s:\n",
    "        if ch not in 'fluy':\n",
    "            return False\n",
    "    return True\n",
    "\n",
    "print(all_fluffy('flu'))"
   ]
  },
  {
   "cell_type": "markdown",
   "metadata": {},
   "source": [
    "## Test cases\n",
    "\n",
    "empty | 1char fluffy | 1 char not fluffy | all non-fluffy | some no-fluffy | all fluffy chars used('fluffy') | some fluffy chars used "
   ]
  },
  {
   "cell_type": "code",
   "execution_count": null,
   "metadata": {},
   "outputs": [],
   "source": []
  }
 ],
 "metadata": {
  "kernelspec": {
   "display_name": "Python 3",
   "language": "python",
   "name": "python3"
  },
  "language_info": {
   "codemirror_mode": {
    "name": "ipython",
    "version": 3
   },
   "file_extension": ".py",
   "mimetype": "text/x-python",
   "name": "python",
   "nbconvert_exporter": "python",
   "pygments_lexer": "ipython3",
   "version": "3.6.6"
  }
 },
 "nbformat": 4,
 "nbformat_minor": 2
}
