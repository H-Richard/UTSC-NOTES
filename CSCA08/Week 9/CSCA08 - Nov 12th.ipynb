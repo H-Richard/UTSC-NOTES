{
 "cells": [
  {
   "cell_type": "markdown",
   "metadata": {},
   "source": [
    "# CSCA08 - LEC01\n",
    "# Week 9\n",
    "## November 12th, 12:00pm - 1:00pm\n",
    "\n",
    "## Testing"
   ]
  },
  {
   "cell_type": "code",
   "execution_count": null,
   "metadata": {},
   "outputs": [],
   "source": [
    "def is_teenager(age: int) -> bool:\n",
    "    \"\"\"Return True iff age is teenager between 13 and 18 inclusive.\n",
    "    \n",
    "    Precondition: age >= 0\n",
    "    \"\"\"\n",
    "    return age >= 13 and age <= 8"
   ]
  },
  {
   "cell_type": "markdown",
   "metadata": {},
   "source": [
    "Description || age || Expected result || Actual Result || Pass/Fail\n"
   ]
  },
  {
   "cell_type": "code",
   "execution_count": null,
   "metadata": {},
   "outputs": [],
   "source": []
  }
 ],
 "metadata": {
  "kernelspec": {
   "display_name": "Python 3",
   "language": "python",
   "name": "python3"
  },
  "language_info": {
   "codemirror_mode": {
    "name": "ipython",
    "version": 3
   },
   "file_extension": ".py",
   "mimetype": "text/x-python",
   "name": "python",
   "nbconvert_exporter": "python",
   "pygments_lexer": "ipython3",
   "version": "3.6.6"
  }
 },
 "nbformat": 4,
 "nbformat_minor": 2
}
