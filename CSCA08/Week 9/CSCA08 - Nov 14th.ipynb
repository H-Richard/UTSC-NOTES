{
 "cells": [
  {
   "cell_type": "markdown",
   "metadata": {},
   "source": [
    "# CSCA08 - LEC01\n",
    "# Week 9\n",
    "## November 14th, 12:00pm - 1:00pm\n",
    "## Testing - Continued"
   ]
  },
  {
   "cell_type": "markdown",
   "metadata": {},
   "source": [
    "There are two types of testing: \n",
    "\n",
    "'BlackBox Testing' - we do not know how the function works, but simply that it works.\n",
    "\n",
    "What you need to know before you start testing:\n",
    "\n",
    "1. Header, including all types of arguments and return type.\n",
    "\n",
    "2. Precondition\n",
    "\n",
    "3. Description\n",
    "\n",
    "What to-do/not to-do:\n",
    "\n",
    "1. only test valid input (refer to precondition and argument types)\n",
    "\n",
    "2. No redundant test cases (no multiple inputs from the same category/partition)\n",
    "\n",
    "3. Coverage, impossible for large systems\n"
   ]
  },
  {
   "cell_type": "code",
   "execution_count": null,
   "metadata": {},
   "outputs": [],
   "source": [
    "def same_abs(int1: int, int2: int) -> bool:\n",
    "    \"\"\"Return True iff int1 and int2 have the same absolute value.\n",
    "    \"\"\""
   ]
  },
  {
   "cell_type": "markdown",
   "metadata": {},
   "source": [
    "We know that integers are positive, negative or 0.\n",
    "\n",
    "for each combination of the above, we need to test them with the same magnitude value and different value.\n",
    "\n",
    "eg:\n",
    "\n",
    "Positive - Positive cases:\n",
    "\n",
    "Positive - Positive Same number | Positive - Positive Different number\n",
    "\n",
    "Positive - Negative cases:\n",
    "\n",
    "Positive - Negative Same number | Positive - Negative Different number\n",
    "\n",
    "Negative - Positive cases:\n",
    "\n",
    "Negative - Positive Same magnitude | Negative - Positive Different magnitude\n",
    "\n",
    "0 cases:\n",
    "\n",
    "both ints are 0 \n",
    "\n",
    "...\n",
    "\n",
    "We must simply exhaust all possibilities as we do not know how the function works - 'Blackbox testing'"
   ]
  },
  {
   "cell_type": "code",
   "execution_count": null,
   "metadata": {},
   "outputs": [],
   "source": [
    "from typing import Dict, list\n",
    "\n",
    "def most_popular(company_to_placements: Dict[str: List[int]]) -> List[str]:\n",
    "    \"\"\"Return the company or companies with the most placements in the race according to company_to_placements.\n",
    "    \n",
    "    Precondition: company_to_placemnets is not empty\n",
    "    \"\"\"\n",
    "    "
   ]
  },
  {
   "cell_type": "markdown",
   "metadata": {},
   "source": [
    "a^2"
   ]
  },
  {
   "cell_type": "code",
   "execution_count": null,
   "metadata": {},
   "outputs": [],
   "source": []
  }
 ],
 "metadata": {
  "kernelspec": {
   "display_name": "Python 3",
   "language": "python",
   "name": "python3"
  },
  "language_info": {
   "codemirror_mode": {
    "name": "ipython",
    "version": 3
   },
   "file_extension": ".py",
   "mimetype": "text/x-python",
   "name": "python",
   "nbconvert_exporter": "python",
   "pygments_lexer": "ipython3",
   "version": "3.6.6"
  }
 },
 "nbformat": 4,
 "nbformat_minor": 2
}
